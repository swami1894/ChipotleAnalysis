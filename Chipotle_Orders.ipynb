{
 "cells": [
  {
   "cell_type": "markdown",
   "metadata": {},
   "source": [
    "### Chipotle Orders Analysis"
   ]
  },
  {
   "cell_type": "code",
   "execution_count": 1,
   "metadata": {},
   "outputs": [],
   "source": [
    "import pandas as pd\n",
    "import numpy as np\n",
    "import re\n",
    "import matplotlib.pyplot as plt"
   ]
  },
  {
   "cell_type": "code",
   "execution_count": 2,
   "metadata": {},
   "outputs": [],
   "source": [
    "ordersDF = pd.read_table(\"./data/chipotle.tsv\")"
   ]
  },
  {
   "cell_type": "code",
   "execution_count": 3,
   "metadata": {},
   "outputs": [
    {
     "data": {
      "text/html": [
       "<div>\n",
       "<style scoped>\n",
       "    .dataframe tbody tr th:only-of-type {\n",
       "        vertical-align: middle;\n",
       "    }\n",
       "\n",
       "    .dataframe tbody tr th {\n",
       "        vertical-align: top;\n",
       "    }\n",
       "\n",
       "    .dataframe thead th {\n",
       "        text-align: right;\n",
       "    }\n",
       "</style>\n",
       "<table border=\"1\" class=\"dataframe\">\n",
       "  <thead>\n",
       "    <tr style=\"text-align: right;\">\n",
       "      <th></th>\n",
       "      <th>order_id</th>\n",
       "      <th>quantity</th>\n",
       "      <th>item_name</th>\n",
       "      <th>choice_description</th>\n",
       "      <th>item_price</th>\n",
       "    </tr>\n",
       "  </thead>\n",
       "  <tbody>\n",
       "    <tr>\n",
       "      <th>0</th>\n",
       "      <td>1</td>\n",
       "      <td>1</td>\n",
       "      <td>Chips and Fresh Tomato Salsa</td>\n",
       "      <td>NaN</td>\n",
       "      <td>$2.39</td>\n",
       "    </tr>\n",
       "    <tr>\n",
       "      <th>1</th>\n",
       "      <td>1</td>\n",
       "      <td>1</td>\n",
       "      <td>Izze</td>\n",
       "      <td>[Clementine]</td>\n",
       "      <td>$3.39</td>\n",
       "    </tr>\n",
       "    <tr>\n",
       "      <th>2</th>\n",
       "      <td>1</td>\n",
       "      <td>1</td>\n",
       "      <td>Nantucket Nectar</td>\n",
       "      <td>[Apple]</td>\n",
       "      <td>$3.39</td>\n",
       "    </tr>\n",
       "    <tr>\n",
       "      <th>3</th>\n",
       "      <td>1</td>\n",
       "      <td>1</td>\n",
       "      <td>Chips and Tomatillo-Green Chili Salsa</td>\n",
       "      <td>NaN</td>\n",
       "      <td>$2.39</td>\n",
       "    </tr>\n",
       "    <tr>\n",
       "      <th>4</th>\n",
       "      <td>2</td>\n",
       "      <td>2</td>\n",
       "      <td>Chicken Bowl</td>\n",
       "      <td>[Tomatillo-Red Chili Salsa (Hot), [Black Beans...</td>\n",
       "      <td>$16.98</td>\n",
       "    </tr>\n",
       "  </tbody>\n",
       "</table>\n",
       "</div>"
      ],
      "text/plain": [
       "   order_id  quantity                              item_name  \\\n",
       "0         1         1           Chips and Fresh Tomato Salsa   \n",
       "1         1         1                                   Izze   \n",
       "2         1         1                       Nantucket Nectar   \n",
       "3         1         1  Chips and Tomatillo-Green Chili Salsa   \n",
       "4         2         2                           Chicken Bowl   \n",
       "\n",
       "                                  choice_description item_price  \n",
       "0                                                NaN     $2.39   \n",
       "1                                       [Clementine]     $3.39   \n",
       "2                                            [Apple]     $3.39   \n",
       "3                                                NaN     $2.39   \n",
       "4  [Tomatillo-Red Chili Salsa (Hot), [Black Beans...    $16.98   "
      ]
     },
     "execution_count": 3,
     "metadata": {},
     "output_type": "execute_result"
    }
   ],
   "source": [
    "ordersDF.head()"
   ]
  },
  {
   "cell_type": "code",
   "execution_count": 4,
   "metadata": {},
   "outputs": [],
   "source": [
    "ordersDF[\"choice_description\"] = ordersDF.apply(lambda x: re.sub(r\"[\\[\\]]\", '', str(x.choice_description)), axis=1)\n",
    "ordersDF[\"choice_description\"] = ordersDF.apply(lambda x: x.choice_description.split(\", \"), axis=1)\n",
    "ordersDF[\"item_name\"] = ordersDF.apply(lambda x: [x.item_name], axis=1)\n",
    "ordersDF[\"price\"] = pd.to_numeric(ordersDF.item_price.str.replace(\"$\", \"\"), downcast=\"float\", errors=\"coerce\")"
   ]
  },
  {
   "cell_type": "code",
   "execution_count": 5,
   "metadata": {},
   "outputs": [
    {
     "data": {
      "text/plain": [
       "order_id                int64\n",
       "quantity                int64\n",
       "item_name              object\n",
       "choice_description     object\n",
       "item_price             object\n",
       "price                 float32\n",
       "dtype: object"
      ]
     },
     "execution_count": 5,
     "metadata": {},
     "output_type": "execute_result"
    }
   ],
   "source": [
    "ordersDF.dtypes"
   ]
  },
  {
   "cell_type": "code",
   "execution_count": 6,
   "metadata": {},
   "outputs": [
    {
     "data": {
      "text/html": [
       "<div>\n",
       "<style scoped>\n",
       "    .dataframe tbody tr th:only-of-type {\n",
       "        vertical-align: middle;\n",
       "    }\n",
       "\n",
       "    .dataframe tbody tr th {\n",
       "        vertical-align: top;\n",
       "    }\n",
       "\n",
       "    .dataframe thead th {\n",
       "        text-align: right;\n",
       "    }\n",
       "</style>\n",
       "<table border=\"1\" class=\"dataframe\">\n",
       "  <thead>\n",
       "    <tr style=\"text-align: right;\">\n",
       "      <th></th>\n",
       "      <th>order_id</th>\n",
       "      <th>quantity</th>\n",
       "      <th>item_name</th>\n",
       "      <th>choice_description</th>\n",
       "      <th>item_price</th>\n",
       "      <th>price</th>\n",
       "    </tr>\n",
       "  </thead>\n",
       "  <tbody>\n",
       "    <tr>\n",
       "      <th>0</th>\n",
       "      <td>1</td>\n",
       "      <td>1</td>\n",
       "      <td>[Chips and Fresh Tomato Salsa]</td>\n",
       "      <td>[nan]</td>\n",
       "      <td>$2.39</td>\n",
       "      <td>2.39</td>\n",
       "    </tr>\n",
       "    <tr>\n",
       "      <th>1</th>\n",
       "      <td>1</td>\n",
       "      <td>1</td>\n",
       "      <td>[Izze]</td>\n",
       "      <td>[Clementine]</td>\n",
       "      <td>$3.39</td>\n",
       "      <td>3.39</td>\n",
       "    </tr>\n",
       "    <tr>\n",
       "      <th>2</th>\n",
       "      <td>1</td>\n",
       "      <td>1</td>\n",
       "      <td>[Nantucket Nectar]</td>\n",
       "      <td>[Apple]</td>\n",
       "      <td>$3.39</td>\n",
       "      <td>3.39</td>\n",
       "    </tr>\n",
       "    <tr>\n",
       "      <th>3</th>\n",
       "      <td>1</td>\n",
       "      <td>1</td>\n",
       "      <td>[Chips and Tomatillo-Green Chili Salsa]</td>\n",
       "      <td>[nan]</td>\n",
       "      <td>$2.39</td>\n",
       "      <td>2.39</td>\n",
       "    </tr>\n",
       "    <tr>\n",
       "      <th>4</th>\n",
       "      <td>2</td>\n",
       "      <td>2</td>\n",
       "      <td>[Chicken Bowl]</td>\n",
       "      <td>[Tomatillo-Red Chili Salsa (Hot), Black Beans,...</td>\n",
       "      <td>$16.98</td>\n",
       "      <td>16.98</td>\n",
       "    </tr>\n",
       "  </tbody>\n",
       "</table>\n",
       "</div>"
      ],
      "text/plain": [
       "   order_id  quantity                                item_name  \\\n",
       "0         1         1           [Chips and Fresh Tomato Salsa]   \n",
       "1         1         1                                   [Izze]   \n",
       "2         1         1                       [Nantucket Nectar]   \n",
       "3         1         1  [Chips and Tomatillo-Green Chili Salsa]   \n",
       "4         2         2                           [Chicken Bowl]   \n",
       "\n",
       "                                  choice_description item_price  price  \n",
       "0                                              [nan]     $2.39    2.39  \n",
       "1                                       [Clementine]     $3.39    3.39  \n",
       "2                                            [Apple]     $3.39    3.39  \n",
       "3                                              [nan]     $2.39    2.39  \n",
       "4  [Tomatillo-Red Chili Salsa (Hot), Black Beans,...    $16.98   16.98  "
      ]
     },
     "execution_count": 6,
     "metadata": {},
     "output_type": "execute_result"
    }
   ],
   "source": [
    "ordersDF.head()"
   ]
  },
  {
   "cell_type": "code",
   "execution_count": 7,
   "metadata": {},
   "outputs": [],
   "source": [
    "orderIdTable = ordersDF.groupby(by=\"order_id\", as_index=False)[[\"quantity\", \"price\"]].sum()"
   ]
  },
  {
   "cell_type": "code",
   "execution_count": 8,
   "metadata": {},
   "outputs": [
    {
     "data": {
      "text/html": [
       "<div>\n",
       "<style scoped>\n",
       "    .dataframe tbody tr th:only-of-type {\n",
       "        vertical-align: middle;\n",
       "    }\n",
       "\n",
       "    .dataframe tbody tr th {\n",
       "        vertical-align: top;\n",
       "    }\n",
       "\n",
       "    .dataframe thead th {\n",
       "        text-align: right;\n",
       "    }\n",
       "</style>\n",
       "<table border=\"1\" class=\"dataframe\">\n",
       "  <thead>\n",
       "    <tr style=\"text-align: right;\">\n",
       "      <th></th>\n",
       "      <th>order_id</th>\n",
       "      <th>quantity</th>\n",
       "      <th>price</th>\n",
       "    </tr>\n",
       "  </thead>\n",
       "  <tbody>\n",
       "    <tr>\n",
       "      <th>0</th>\n",
       "      <td>1</td>\n",
       "      <td>4</td>\n",
       "      <td>11.56</td>\n",
       "    </tr>\n",
       "    <tr>\n",
       "      <th>1</th>\n",
       "      <td>2</td>\n",
       "      <td>2</td>\n",
       "      <td>16.98</td>\n",
       "    </tr>\n",
       "    <tr>\n",
       "      <th>2</th>\n",
       "      <td>3</td>\n",
       "      <td>2</td>\n",
       "      <td>12.67</td>\n",
       "    </tr>\n",
       "    <tr>\n",
       "      <th>3</th>\n",
       "      <td>4</td>\n",
       "      <td>2</td>\n",
       "      <td>21.00</td>\n",
       "    </tr>\n",
       "    <tr>\n",
       "      <th>4</th>\n",
       "      <td>5</td>\n",
       "      <td>2</td>\n",
       "      <td>13.70</td>\n",
       "    </tr>\n",
       "  </tbody>\n",
       "</table>\n",
       "</div>"
      ],
      "text/plain": [
       "   order_id  quantity  price\n",
       "0         1         4  11.56\n",
       "1         2         2  16.98\n",
       "2         3         2  12.67\n",
       "3         4         2  21.00\n",
       "4         5         2  13.70"
      ]
     },
     "execution_count": 8,
     "metadata": {},
     "output_type": "execute_result"
    }
   ],
   "source": [
    "orderIdTable.head()"
   ]
  },
  {
   "cell_type": "code",
   "execution_count": 9,
   "metadata": {},
   "outputs": [
    {
     "data": {
      "text/html": [
       "<div>\n",
       "<style scoped>\n",
       "    .dataframe tbody tr th:only-of-type {\n",
       "        vertical-align: middle;\n",
       "    }\n",
       "\n",
       "    .dataframe tbody tr th {\n",
       "        vertical-align: top;\n",
       "    }\n",
       "\n",
       "    .dataframe thead th {\n",
       "        text-align: right;\n",
       "    }\n",
       "</style>\n",
       "<table border=\"1\" class=\"dataframe\">\n",
       "  <thead>\n",
       "    <tr style=\"text-align: right;\">\n",
       "      <th></th>\n",
       "      <th>order_id</th>\n",
       "      <th>quantity</th>\n",
       "      <th>price</th>\n",
       "    </tr>\n",
       "  </thead>\n",
       "  <tbody>\n",
       "    <tr>\n",
       "      <th>1829</th>\n",
       "      <td>1830</td>\n",
       "      <td>2</td>\n",
       "      <td>23.00</td>\n",
       "    </tr>\n",
       "    <tr>\n",
       "      <th>1830</th>\n",
       "      <td>1831</td>\n",
       "      <td>3</td>\n",
       "      <td>12.90</td>\n",
       "    </tr>\n",
       "    <tr>\n",
       "      <th>1831</th>\n",
       "      <td>1832</td>\n",
       "      <td>2</td>\n",
       "      <td>13.20</td>\n",
       "    </tr>\n",
       "    <tr>\n",
       "      <th>1832</th>\n",
       "      <td>1833</td>\n",
       "      <td>2</td>\n",
       "      <td>23.50</td>\n",
       "    </tr>\n",
       "    <tr>\n",
       "      <th>1833</th>\n",
       "      <td>1834</td>\n",
       "      <td>3</td>\n",
       "      <td>28.75</td>\n",
       "    </tr>\n",
       "  </tbody>\n",
       "</table>\n",
       "</div>"
      ],
      "text/plain": [
       "      order_id  quantity  price\n",
       "1829      1830         2  23.00\n",
       "1830      1831         3  12.90\n",
       "1831      1832         2  13.20\n",
       "1832      1833         2  23.50\n",
       "1833      1834         3  28.75"
      ]
     },
     "execution_count": 9,
     "metadata": {},
     "output_type": "execute_result"
    }
   ],
   "source": [
    "orderIdTable.tail()"
   ]
  },
  {
   "cell_type": "code",
   "execution_count": 10,
   "metadata": {},
   "outputs": [
    {
     "name": "stdout",
     "output_type": "stream",
     "text": [
      "Orders ID table has 1834 rows and 3 columns\n"
     ]
    }
   ],
   "source": [
    "rows, cols = orderIdTable.shape\n",
    "print(f\"Orders ID table has {rows} rows and {cols} columns\")"
   ]
  },
  {
   "cell_type": "code",
   "execution_count": 11,
   "metadata": {},
   "outputs": [
    {
     "name": "stdout",
     "output_type": "stream",
     "text": [
      "Price made per order on 1834 orders is $18.81\n"
     ]
    }
   ],
   "source": [
    "print(f\"Price made per order on {rows} orders is ${orderIdTable[\"price\"].mean():.2f}\")"
   ]
  },
  {
   "cell_type": "code",
   "execution_count": 12,
   "metadata": {},
   "outputs": [
    {
     "name": "stdout",
     "output_type": "stream",
     "text": [
      "Each customer ordered atleast 3 items per order on an average\n"
     ]
    }
   ],
   "source": [
    "print(f\"Each customer ordered atleast {orderIdTable[\"quantity\"].mean():.0f} items per order on an average\")"
   ]
  },
  {
   "cell_type": "code",
   "execution_count": 13,
   "metadata": {},
   "outputs": [],
   "source": [
    "ordersDfModified = ordersDF.groupby(by=\"order_id\", as_index=False).sum()"
   ]
  },
  {
   "cell_type": "code",
   "execution_count": 14,
   "metadata": {},
   "outputs": [
    {
     "data": {
      "text/html": [
       "<div>\n",
       "<style scoped>\n",
       "    .dataframe tbody tr th:only-of-type {\n",
       "        vertical-align: middle;\n",
       "    }\n",
       "\n",
       "    .dataframe tbody tr th {\n",
       "        vertical-align: top;\n",
       "    }\n",
       "\n",
       "    .dataframe thead th {\n",
       "        text-align: right;\n",
       "    }\n",
       "</style>\n",
       "<table border=\"1\" class=\"dataframe\">\n",
       "  <thead>\n",
       "    <tr style=\"text-align: right;\">\n",
       "      <th></th>\n",
       "      <th>order_id</th>\n",
       "      <th>quantity</th>\n",
       "      <th>item_name</th>\n",
       "      <th>choice_description</th>\n",
       "      <th>item_price</th>\n",
       "      <th>price</th>\n",
       "    </tr>\n",
       "  </thead>\n",
       "  <tbody>\n",
       "    <tr>\n",
       "      <th>0</th>\n",
       "      <td>1</td>\n",
       "      <td>4</td>\n",
       "      <td>[Chips and Fresh Tomato Salsa, Izze, Nantucket...</td>\n",
       "      <td>[nan, Clementine, Apple, nan]</td>\n",
       "      <td>$2.39 $3.39 $3.39 $2.39</td>\n",
       "      <td>11.56</td>\n",
       "    </tr>\n",
       "    <tr>\n",
       "      <th>1</th>\n",
       "      <td>2</td>\n",
       "      <td>2</td>\n",
       "      <td>[Chicken Bowl]</td>\n",
       "      <td>[Tomatillo-Red Chili Salsa (Hot), Black Beans,...</td>\n",
       "      <td>$16.98</td>\n",
       "      <td>16.98</td>\n",
       "    </tr>\n",
       "    <tr>\n",
       "      <th>2</th>\n",
       "      <td>3</td>\n",
       "      <td>2</td>\n",
       "      <td>[Chicken Bowl, Side of Chips]</td>\n",
       "      <td>[Fresh Tomato Salsa (Mild), Rice, Cheese, Sour...</td>\n",
       "      <td>$10.98 $1.69</td>\n",
       "      <td>12.67</td>\n",
       "    </tr>\n",
       "    <tr>\n",
       "      <th>3</th>\n",
       "      <td>4</td>\n",
       "      <td>2</td>\n",
       "      <td>[Steak Burrito, Steak Soft Tacos]</td>\n",
       "      <td>[Tomatillo Red Chili Salsa, Fajita Vegetables,...</td>\n",
       "      <td>$11.75 $9.25</td>\n",
       "      <td>21.00</td>\n",
       "    </tr>\n",
       "    <tr>\n",
       "      <th>4</th>\n",
       "      <td>5</td>\n",
       "      <td>2</td>\n",
       "      <td>[Steak Burrito, Chips and Guacamole]</td>\n",
       "      <td>[Fresh Tomato Salsa, Rice, Black Beans, Pinto ...</td>\n",
       "      <td>$9.25 $4.45</td>\n",
       "      <td>13.70</td>\n",
       "    </tr>\n",
       "  </tbody>\n",
       "</table>\n",
       "</div>"
      ],
      "text/plain": [
       "   order_id  quantity                                          item_name  \\\n",
       "0         1         4  [Chips and Fresh Tomato Salsa, Izze, Nantucket...   \n",
       "1         2         2                                     [Chicken Bowl]   \n",
       "2         3         2                      [Chicken Bowl, Side of Chips]   \n",
       "3         4         2                  [Steak Burrito, Steak Soft Tacos]   \n",
       "4         5         2               [Steak Burrito, Chips and Guacamole]   \n",
       "\n",
       "                                  choice_description  \\\n",
       "0                      [nan, Clementine, Apple, nan]   \n",
       "1  [Tomatillo-Red Chili Salsa (Hot), Black Beans,...   \n",
       "2  [Fresh Tomato Salsa (Mild), Rice, Cheese, Sour...   \n",
       "3  [Tomatillo Red Chili Salsa, Fajita Vegetables,...   \n",
       "4  [Fresh Tomato Salsa, Rice, Black Beans, Pinto ...   \n",
       "\n",
       "                 item_price  price  \n",
       "0  $2.39 $3.39 $3.39 $2.39   11.56  \n",
       "1                   $16.98   16.98  \n",
       "2             $10.98 $1.69   12.67  \n",
       "3             $11.75 $9.25   21.00  \n",
       "4              $9.25 $4.45   13.70  "
      ]
     },
     "execution_count": 14,
     "metadata": {},
     "output_type": "execute_result"
    }
   ],
   "source": [
    "ordersDfModified.head()"
   ]
  },
  {
   "cell_type": "code",
   "execution_count": 15,
   "metadata": {},
   "outputs": [
    {
     "data": {
      "text/html": [
       "<div>\n",
       "<style scoped>\n",
       "    .dataframe tbody tr th:only-of-type {\n",
       "        vertical-align: middle;\n",
       "    }\n",
       "\n",
       "    .dataframe tbody tr th {\n",
       "        vertical-align: top;\n",
       "    }\n",
       "\n",
       "    .dataframe thead th {\n",
       "        text-align: right;\n",
       "    }\n",
       "</style>\n",
       "<table border=\"1\" class=\"dataframe\">\n",
       "  <thead>\n",
       "    <tr style=\"text-align: right;\">\n",
       "      <th></th>\n",
       "      <th>order_id</th>\n",
       "      <th>quantity</th>\n",
       "      <th>item_name</th>\n",
       "      <th>choice_description</th>\n",
       "      <th>item_price</th>\n",
       "      <th>price</th>\n",
       "    </tr>\n",
       "  </thead>\n",
       "  <tbody>\n",
       "    <tr>\n",
       "      <th>1829</th>\n",
       "      <td>1830</td>\n",
       "      <td>2</td>\n",
       "      <td>[Steak Burrito, Veggie Burrito]</td>\n",
       "      <td>[Fresh Tomato Salsa, Rice, Sour Cream, Cheese,...</td>\n",
       "      <td>$11.75 $11.25</td>\n",
       "      <td>23.00</td>\n",
       "    </tr>\n",
       "    <tr>\n",
       "      <th>1830</th>\n",
       "      <td>1831</td>\n",
       "      <td>3</td>\n",
       "      <td>[Carnitas Bowl, Chips, Bottled Water]</td>\n",
       "      <td>[Fresh Tomato Salsa, Fajita Vegetables, Rice, ...</td>\n",
       "      <td>$9.25 $2.15 $1.50</td>\n",
       "      <td>12.90</td>\n",
       "    </tr>\n",
       "    <tr>\n",
       "      <th>1831</th>\n",
       "      <td>1832</td>\n",
       "      <td>2</td>\n",
       "      <td>[Chicken Soft Tacos, Chips and Guacamole]</td>\n",
       "      <td>[Fresh Tomato Salsa, Rice, Cheese, Sour Cream,...</td>\n",
       "      <td>$8.75 $4.45</td>\n",
       "      <td>13.20</td>\n",
       "    </tr>\n",
       "    <tr>\n",
       "      <th>1832</th>\n",
       "      <td>1833</td>\n",
       "      <td>2</td>\n",
       "      <td>[Steak Burrito, Steak Burrito]</td>\n",
       "      <td>[Fresh Tomato Salsa, Rice, Black Beans, Sour C...</td>\n",
       "      <td>$11.75 $11.75</td>\n",
       "      <td>23.50</td>\n",
       "    </tr>\n",
       "    <tr>\n",
       "      <th>1833</th>\n",
       "      <td>1834</td>\n",
       "      <td>3</td>\n",
       "      <td>[Chicken Salad Bowl, Chicken Salad Bowl, Chick...</td>\n",
       "      <td>[Fresh Tomato Salsa, Fajita Vegetables, Pinto ...</td>\n",
       "      <td>$11.25 $8.75 $8.75</td>\n",
       "      <td>28.75</td>\n",
       "    </tr>\n",
       "  </tbody>\n",
       "</table>\n",
       "</div>"
      ],
      "text/plain": [
       "      order_id  quantity                                          item_name  \\\n",
       "1829      1830         2                    [Steak Burrito, Veggie Burrito]   \n",
       "1830      1831         3              [Carnitas Bowl, Chips, Bottled Water]   \n",
       "1831      1832         2          [Chicken Soft Tacos, Chips and Guacamole]   \n",
       "1832      1833         2                     [Steak Burrito, Steak Burrito]   \n",
       "1833      1834         3  [Chicken Salad Bowl, Chicken Salad Bowl, Chick...   \n",
       "\n",
       "                                     choice_description           item_price  \\\n",
       "1829  [Fresh Tomato Salsa, Rice, Sour Cream, Cheese,...       $11.75 $11.25    \n",
       "1830  [Fresh Tomato Salsa, Fajita Vegetables, Rice, ...   $9.25 $2.15 $1.50    \n",
       "1831  [Fresh Tomato Salsa, Rice, Cheese, Sour Cream,...         $8.75 $4.45    \n",
       "1832  [Fresh Tomato Salsa, Rice, Black Beans, Sour C...       $11.75 $11.75    \n",
       "1833  [Fresh Tomato Salsa, Fajita Vegetables, Pinto ...  $11.25 $8.75 $8.75    \n",
       "\n",
       "      price  \n",
       "1829  23.00  \n",
       "1830  12.90  \n",
       "1831  13.20  \n",
       "1832  23.50  \n",
       "1833  28.75  "
      ]
     },
     "execution_count": 15,
     "metadata": {},
     "output_type": "execute_result"
    }
   ],
   "source": [
    "ordersDfModified.tail()"
   ]
  },
  {
   "cell_type": "code",
   "execution_count": 16,
   "metadata": {},
   "outputs": [
    {
     "name": "stdout",
     "output_type": "stream",
     "text": [
      "4972 items were placed in 1834 orders\n"
     ]
    }
   ],
   "source": [
    "print(f\"{ordersDfModified.quantity.sum()} items were placed in {rows} orders\")"
   ]
  },
  {
   "cell_type": "code",
   "execution_count": 17,
   "metadata": {},
   "outputs": [],
   "source": [
    "ordersDict ={}\n",
    "\n",
    "for items in ordersDfModified.item_name:\n",
    "\n",
    "    for item in items:\n",
    "\n",
    "        if item in ordersDict.keys():\n",
    "\n",
    "            ordersDict[item] += 1\n",
    "        \n",
    "        else:\n",
    "\n",
    "            ordersDict.setdefault(item, 1)\n"
   ]
  },
  {
   "cell_type": "code",
   "execution_count": 18,
   "metadata": {},
   "outputs": [],
   "source": [
    "foodItem = []\n",
    "numOfOrders = []\n",
    "\n",
    "for key, val in ordersDict.items():\n",
    "    foodItem.append(key)\n",
    "    numOfOrders.append(val)"
   ]
  },
  {
   "cell_type": "code",
   "execution_count": 19,
   "metadata": {},
   "outputs": [],
   "source": [
    "foodSold = pd.DataFrame(data = {\"food_item\":np.array(foodItem), \"num_of_orders\":np.array(numOfOrders)})\n",
    "foodSold = foodSold.sort_values(by=\"num_of_orders\", ascending=False, ignore_index=True)"
   ]
  },
  {
   "cell_type": "code",
   "execution_count": 20,
   "metadata": {},
   "outputs": [
    {
     "name": "stdout",
     "output_type": "stream",
     "text": [
      "Top 5 Items Sold\n"
     ]
    },
    {
     "data": {
      "text/html": [
       "<div>\n",
       "<style scoped>\n",
       "    .dataframe tbody tr th:only-of-type {\n",
       "        vertical-align: middle;\n",
       "    }\n",
       "\n",
       "    .dataframe tbody tr th {\n",
       "        vertical-align: top;\n",
       "    }\n",
       "\n",
       "    .dataframe thead th {\n",
       "        text-align: right;\n",
       "    }\n",
       "</style>\n",
       "<table border=\"1\" class=\"dataframe\">\n",
       "  <thead>\n",
       "    <tr style=\"text-align: right;\">\n",
       "      <th></th>\n",
       "      <th>food_item</th>\n",
       "      <th>num_of_orders</th>\n",
       "    </tr>\n",
       "  </thead>\n",
       "  <tbody>\n",
       "    <tr>\n",
       "      <th>0</th>\n",
       "      <td>Chicken Bowl</td>\n",
       "      <td>726</td>\n",
       "    </tr>\n",
       "    <tr>\n",
       "      <th>1</th>\n",
       "      <td>Chicken Burrito</td>\n",
       "      <td>553</td>\n",
       "    </tr>\n",
       "    <tr>\n",
       "      <th>2</th>\n",
       "      <td>Chips and Guacamole</td>\n",
       "      <td>479</td>\n",
       "    </tr>\n",
       "    <tr>\n",
       "      <th>3</th>\n",
       "      <td>Steak Burrito</td>\n",
       "      <td>368</td>\n",
       "    </tr>\n",
       "    <tr>\n",
       "      <th>4</th>\n",
       "      <td>Canned Soft Drink</td>\n",
       "      <td>301</td>\n",
       "    </tr>\n",
       "  </tbody>\n",
       "</table>\n",
       "</div>"
      ],
      "text/plain": [
       "             food_item  num_of_orders\n",
       "0         Chicken Bowl            726\n",
       "1      Chicken Burrito            553\n",
       "2  Chips and Guacamole            479\n",
       "3        Steak Burrito            368\n",
       "4    Canned Soft Drink            301"
      ]
     },
     "execution_count": 20,
     "metadata": {},
     "output_type": "execute_result"
    }
   ],
   "source": [
    "print(\"Top 5 Items Sold\")\n",
    "foodSold.head()"
   ]
  },
  {
   "cell_type": "code",
   "execution_count": 36,
   "metadata": {},
   "outputs": [
    {
     "data": {
      "image/png": "[encoded data removed]",
      "text/plain": [
       "<Figure size 640x480 with 1 Axes>"
      ]
     },
     "metadata": {},
     "output_type": "display_data"
    }
   ],
   "source": [
    "plt.bar(foodSold.head().food_item, foodSold.head().num_of_orders, width=0.4, color=\"#6289eb\")\n",
    "plt.title(\"Popular Orders\")\n",
    "plt.xlabel(\"Food\")\n",
    "plt.xticks(rotation=30)\n",
    "plt.yticks(np.arange(0, 800, 150))\n",
    "plt.minorticks_on()\n",
    "plt.ylabel(\"Orders\")\n",
    "plt.grid(linestyle=\":\", color=\"#255ce7\", which=\"both\")"
   ]
  },
  {
   "cell_type": "code",
   "execution_count": null,
   "metadata": {},
   "outputs": [],
   "source": [
    "popularOrder = {\"Chicken\":0, \"Steak\":0, \"Chips\":0}\n",
    "\n",
    "def extraction(x):\n",
    "\n",
    "    if \"Chicken\" in x.food_item:\n",
    "        popularOrder[\"Chicken\"] += x.num_of_orders\n",
    "    elif \"Steak\" in x.food_item:\n",
    "        popularOrder[\"Steak\"] += x.num_of_orders\n",
    "    elif \"Chips\" in x.food_item:\n",
    "        popularOrder[\"Chips\"] += x.num_of_orders\n",
    "        \n",
    "\n",
    "foodSold.apply(extraction, axis=1)\n",
    "\n",
    "popularOrder"
   ]
  },
  {
   "cell_type": "code",
   "execution_count": null,
   "metadata": {},
   "outputs": [],
   "source": [
    "popularDf = pd.DataFrame(data={\"foodSold\":list(popularOrder), \"numberSold\":list(popularOrder.values())})\n",
    "popularDf"
   ]
  },
  {
   "cell_type": "code",
   "execution_count": null,
   "metadata": {},
   "outputs": [],
   "source": [
    "plt.bar(popularDf.foodSold, popularDf.numberSold, width=0.4)\n",
    "plt.title(\"Popular Main\")\n",
    "plt.xlabel(\"Food\")\n",
    "plt.ylabel(\"Orders\")"
   ]
  },
  {
   "cell_type": "code",
   "execution_count": null,
   "metadata": {},
   "outputs": [],
   "source": [
    "# orderIdTable.to_csv(\"./data/ordersTable.tsv\", sep=\"\t\", index=False)\n",
    "# foodSold.to_csv(\"./data/foodSold.tsv\", sep=\"\t\", index=False)"
   ]
  }
 ],
 "metadata": {
  "kernelspec": {
   "display_name": ".venv",
   "language": "python",
   "name": "python3"
  },
  "language_info": {
   "codemirror_mode": {
    "name": "ipython",
    "version": 3
   },
   "file_extension": ".py",
   "mimetype": "text/x-python",
   "name": "python",
   "nbconvert_exporter": "python",
   "pygments_lexer": "ipython3",
   "version": "3.12.0"
  }
 },
 "nbformat": 4,
 "nbformat_minor": 2
}
