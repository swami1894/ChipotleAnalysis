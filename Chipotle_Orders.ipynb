{
 "cells": [
  {
   "cell_type": "markdown",
   "metadata": {},
   "source": [
    "### Chipotle Orders Analysis"
   ]
  },
  {
   "cell_type": "code",
   "execution_count": 1,
   "metadata": {},
   "outputs": [
    {
     "ename": "ModuleNotFoundError",
     "evalue": "No module named 'matplotlib'",
     "output_type": "error",
     "traceback": [
      "\u001b[1;31m---------------------------------------------------------------------------\u001b[0m",
      "\u001b[1;31mModuleNotFoundError\u001b[0m                       Traceback (most recent call last)",
      "\u001b[1;32mc:\\Users\\Admin\\Documents\\GitHub\\Chipotle_Orders_Analysis\\Chipotle_Orders.ipynb Cell 2\u001b[0m line \u001b[0;36m4\n\u001b[0;32m      <a href='vscode-notebook-cell:/c%3A/Users/Admin/Documents/GitHub/Chipotle_Orders_Analysis/Chipotle_Orders.ipynb#W1sZmlsZQ%3D%3D?line=1'>2</a>\u001b[0m \u001b[39mimport\u001b[39;00m \u001b[39mnumpy\u001b[39;00m \u001b[39mas\u001b[39;00m \u001b[39mnp\u001b[39;00m\n\u001b[0;32m      <a href='vscode-notebook-cell:/c%3A/Users/Admin/Documents/GitHub/Chipotle_Orders_Analysis/Chipotle_Orders.ipynb#W1sZmlsZQ%3D%3D?line=2'>3</a>\u001b[0m \u001b[39mimport\u001b[39;00m \u001b[39mre\u001b[39;00m\n\u001b[1;32m----> <a href='vscode-notebook-cell:/c%3A/Users/Admin/Documents/GitHub/Chipotle_Orders_Analysis/Chipotle_Orders.ipynb#W1sZmlsZQ%3D%3D?line=3'>4</a>\u001b[0m \u001b[39mimport\u001b[39;00m \u001b[39mmatplotlib\u001b[39;00m\u001b[39m.\u001b[39;00m\u001b[39mpyplot\u001b[39;00m \u001b[39mas\u001b[39;00m \u001b[39mplt\u001b[39;00m\n",
      "\u001b[1;31mModuleNotFoundError\u001b[0m: No module named 'matplotlib'"
     ]
    }
   ],
   "source": [
    "import pandas as pd\n",
    "import numpy as np\n",
    "import re\n",
    "import matplotlib.pyplot as plt"
   ]
  },
  {
   "cell_type": "code",
   "execution_count": null,
   "metadata": {},
   "outputs": [],
   "source": [
    "ordersDF = pd.read_table(\"./data/chipotle.tsv\")"
   ]
  },
  {
   "cell_type": "code",
   "execution_count": null,
   "metadata": {},
   "outputs": [],
   "source": [
    "ordersDF.head()"
   ]
  },
  {
   "cell_type": "code",
   "execution_count": null,
   "metadata": {},
   "outputs": [],
   "source": [
    "ordersDF[\"choice_description\"] = ordersDF.apply(lambda x: re.sub(r\"[\\[\\]]\", '', str(x.choice_description)), axis=1)\n",
    "ordersDF[\"choice_description\"] = ordersDF.apply(lambda x: x.choice_description.split(\", \"), axis=1)\n",
    "ordersDF[\"item_name\"] = ordersDF.apply(lambda x: [x.item_name], axis=1)\n",
    "ordersDF[\"price\"] = pd.to_numeric(ordersDF.item_price.str.replace(\"$\", \"\"), downcast=\"float\", errors=\"coerce\")"
   ]
  },
  {
   "cell_type": "code",
   "execution_count": null,
   "metadata": {},
   "outputs": [],
   "source": [
    "ordersDF.dtypes"
   ]
  },
  {
   "cell_type": "code",
   "execution_count": null,
   "metadata": {},
   "outputs": [],
   "source": [
    "ordersDF.head()"
   ]
  },
  {
   "cell_type": "code",
   "execution_count": null,
   "metadata": {},
   "outputs": [],
   "source": [
    "orderIdTable = ordersDF.groupby(by=\"order_id\", as_index=False)[[\"quantity\", \"price\"]].sum()"
   ]
  },
  {
   "cell_type": "code",
   "execution_count": null,
   "metadata": {},
   "outputs": [],
   "source": [
    "orderIdTable.head()"
   ]
  },
  {
   "cell_type": "code",
   "execution_count": null,
   "metadata": {},
   "outputs": [],
   "source": [
    "orderIdTable.tail()"
   ]
  },
  {
   "cell_type": "code",
   "execution_count": null,
   "metadata": {},
   "outputs": [],
   "source": [
    "rows, cols = orderIdTable.shape\n",
    "print(f\"Orders ID table has {rows} rows and {cols} columns\")"
   ]
  },
  {
   "cell_type": "code",
   "execution_count": null,
   "metadata": {},
   "outputs": [],
   "source": [
    "print(f\"Price made per order on {rows} orders is ${orderIdTable[\"price\"].mean():.2f}\")"
   ]
  },
  {
   "cell_type": "code",
   "execution_count": null,
   "metadata": {},
   "outputs": [],
   "source": [
    "print(f\"Each customer ordered atleast {orderIdTable[\"quantity\"].mean():.0f} items per order on an average\")"
   ]
  },
  {
   "cell_type": "code",
   "execution_count": null,
   "metadata": {},
   "outputs": [],
   "source": [
    "ordersDfModified = ordersDF.groupby(by=\"order_id\", as_index=False).sum()"
   ]
  },
  {
   "cell_type": "code",
   "execution_count": null,
   "metadata": {},
   "outputs": [],
   "source": [
    "ordersDfModified.head()"
   ]
  },
  {
   "cell_type": "code",
   "execution_count": null,
   "metadata": {},
   "outputs": [],
   "source": [
    "ordersDfModified.tail()"
   ]
  },
  {
   "cell_type": "code",
   "execution_count": null,
   "metadata": {},
   "outputs": [],
   "source": [
    "print(f\"{ordersDfModified.quantity.sum()} items were placed in {rows} orders\")"
   ]
  },
  {
   "cell_type": "code",
   "execution_count": null,
   "metadata": {},
   "outputs": [],
   "source": [
    "ordersDict ={}\n",
    "\n",
    "for items in ordersDfModified.item_name:\n",
    "\n",
    "    for item in items:\n",
    "\n",
    "        if item in ordersDict.keys():\n",
    "\n",
    "            ordersDict[item] += 1\n",
    "        \n",
    "        else:\n",
    "\n",
    "            ordersDict.setdefault(item, 1)\n"
   ]
  },
  {
   "cell_type": "code",
   "execution_count": null,
   "metadata": {},
   "outputs": [],
   "source": [
    "foodItem = []\n",
    "numOfOrders = []\n",
    "\n",
    "for key, val in ordersDict.items():\n",
    "    foodItem.append(key)\n",
    "    numOfOrders.append(val)"
   ]
  },
  {
   "cell_type": "code",
   "execution_count": null,
   "metadata": {},
   "outputs": [],
   "source": [
    "foodSold = pd.DataFrame(data = {\"food_item\":np.array(foodItem), \"num_of_orders\":np.array(numOfOrders)})\n",
    "foodSold = foodSold.sort_values(by=\"num_of_orders\", ascending=False, ignore_index=True)"
   ]
  },
  {
   "cell_type": "code",
   "execution_count": null,
   "metadata": {},
   "outputs": [],
   "source": [
    "print(\"Top 5 Items Sold\")\n",
    "foodSold.head()"
   ]
  },
  {
   "cell_type": "code",
   "execution_count": null,
   "metadata": {},
   "outputs": [],
   "source": [
    "popularOrder = {\"Chicken\":0, \"Steak\":0, \"Chips\":0}\n",
    "\n",
    "def extraction(x):\n",
    "\n",
    "    if \"Chicken\" in x.food_item:\n",
    "        popularOrder[\"Chicken\"] += x.num_of_orders\n",
    "    elif \"Steak\" in x.food_item:\n",
    "        popularOrder[\"Steak\"] += x.num_of_orders\n",
    "    elif \"Chips\" in x.food_item:\n",
    "        popularOrder[\"Chips\"] += x.num_of_orders\n",
    "        \n",
    "\n",
    "foodSold.apply(extraction, axis=1)\n",
    "\n",
    "popularOrder"
   ]
  },
  {
   "cell_type": "code",
   "execution_count": null,
   "metadata": {},
   "outputs": [],
   "source": [
    "pd.DataFrame(data={\"foodSold\":list(popularOrder), \"numberSold\":list(popularOrder.values())})"
   ]
  },
  {
   "cell_type": "code",
   "execution_count": null,
   "metadata": {},
   "outputs": [],
   "source": []
  },
  {
   "cell_type": "code",
   "execution_count": null,
   "metadata": {},
   "outputs": [],
   "source": [
    "# orderIdTable.to_csv(\"./data/ordersTable.tsv\", sep=\"\t\", index=False)\n",
    "# foodSold.to_csv(\"./data/foodSold.tsv\", sep=\"\t\", index=False)"
   ]
  }
 ],
 "metadata": {
  "kernelspec": {
   "display_name": ".venv",
   "language": "python",
   "name": "python3"
  },
  "language_info": {
   "codemirror_mode": {
    "name": "ipython",
    "version": 3
   },
   "file_extension": ".py",
   "mimetype": "text/x-python",
   "name": "python",
   "nbconvert_exporter": "python",
   "pygments_lexer": "ipython3",
   "version": "3.12.0"
  }
 },
 "nbformat": 4,
 "nbformat_minor": 2
}
